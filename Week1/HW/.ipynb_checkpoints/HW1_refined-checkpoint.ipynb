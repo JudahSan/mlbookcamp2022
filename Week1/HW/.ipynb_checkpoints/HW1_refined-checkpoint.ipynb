{
 "cells": [
  {
   "cell_type": "code",
   "execution_count": 1,
   "id": "96526943",
   "metadata": {},
   "outputs": [],
   "source": [
    "# import libraries\n",
    "import numpy as np\n",
    "import pandas as pd"
   ]
  },
  {
   "cell_type": "code",
   "execution_count": 2,
   "id": "fcf18733",
   "metadata": {
    "scrolled": true
   },
   "outputs": [
    {
     "data": {
      "text/plain": [
       "'1.20.1'"
      ]
     },
     "execution_count": 2,
     "metadata": {},
     "output_type": "execute_result"
    }
   ],
   "source": [
    "# check numpy version\n",
    "np.__version__"
   ]
  },
  {
   "cell_type": "markdown",
   "id": "c2984844",
   "metadata": {},
   "source": [
    " numpy version `1.20.1`"
   ]
  },
  {
   "cell_type": "markdown",
   "id": "ebba6dfe",
   "metadata": {},
   "source": [
    "## Loading data"
   ]
  },
  {
   "cell_type": "code",
   "execution_count": 3,
   "id": "3e067295",
   "metadata": {},
   "outputs": [
    {
     "name": "stdout",
     "output_type": "stream",
     "text": [
      "GNU Wget 1.21.2, a non-interactive network retriever.\r\n",
      "Usage: wget [OPTION]... [URL]...\r\n",
      "\r\n",
      "Mandatory arguments to long options are mandatory for short options too.\r\n",
      "\r\n",
      "Startup:\r\n",
      "  -V,  --version                   display the version of Wget and exit\r\n",
      "  -h,  --help                      print this help\r\n",
      "  -b,  --background                go to background after startup\r\n",
      "  -e,  --execute=COMMAND           execute a `.wgetrc'-style command\r\n",
      "\r\n",
      "Logging and input file:\r\n",
      "  -o,  --output-file=FILE          log messages to FILE\r\n",
      "  -a,  --append-output=FILE        append messages to FILE\r\n",
      "  -d,  --debug                     print lots of debugging information\r\n",
      "  -q,  --quiet                     quiet (no output)\r\n",
      "  -v,  --verbose                   be verbose (this is the default)\r\n",
      "  -nv, --no-verbose                turn off verboseness, without being quiet\r\n",
      "       --report-speed=TYPE         output bandwidth as TYPE.  TYPE can be bits\r\n",
      "  -i,  --input-file=FILE           download URLs found in local or external FILE\r\n",
      "  -F,  --force-html                treat input file as HTML\r\n",
      "  -B,  --base=URL                  resolves HTML input-file links (-i -F)\r\n",
      "                                     relative to URL\r\n",
      "       --config=FILE               specify config file to use\r\n",
      "       --no-config                 do not read any config file\r\n",
      "       --rejected-log=FILE         log reasons for URL rejection to FILE\r\n",
      "\r\n",
      "Download:\r\n",
      "  -t,  --tries=NUMBER              set number of retries to NUMBER (0 unlimits)\r\n",
      "       --retry-connrefused         retry even if connection is refused\r\n",
      "       --retry-on-http-error=ERRORS    comma-separated list of HTTP errors to retry\r\n",
      "  -O,  --output-document=FILE      write documents to FILE\r\n",
      "  -nc, --no-clobber                skip downloads that would download to\r\n",
      "                                     existing files (overwriting them)\r\n",
      "       --no-netrc                  don't try to obtain credentials from .netrc\r\n",
      "  -c,  --continue                  resume getting a partially-downloaded file\r\n",
      "       --start-pos=OFFSET          start downloading from zero-based position OFFSET\r\n",
      "       --progress=TYPE             select progress gauge type\r\n",
      "       --show-progress             display the progress bar in any verbosity mode\r\n",
      "  -N,  --timestamping              don't re-retrieve files unless newer than\r\n",
      "                                     local\r\n",
      "       --no-if-modified-since      don't use conditional if-modified-since get\r\n",
      "                                     requests in timestamping mode\r\n",
      "       --no-use-server-timestamps  don't set the local file's timestamp by\r\n",
      "                                     the one on the server\r\n",
      "  -S,  --server-response           print server response\r\n",
      "       --spider                    don't download anything\r\n",
      "  -T,  --timeout=SECONDS           set all timeout values to SECONDS\r\n",
      "       --dns-timeout=SECS          set the DNS lookup timeout to SECS\r\n",
      "       --connect-timeout=SECS      set the connect timeout to SECS\r\n",
      "       --read-timeout=SECS         set the read timeout to SECS\r\n",
      "  -w,  --wait=SECONDS              wait SECONDS between retrievals\r\n",
      "                                     (applies if more then 1 URL is to be retrieved)\r\n",
      "       --waitretry=SECONDS         wait 1..SECONDS between retries of a retrieval\r\n",
      "                                     (applies if more then 1 URL is to be retrieved)\r\n",
      "       --random-wait               wait from 0.5*WAIT...1.5*WAIT secs between retrievals\r\n",
      "                                     (applies if more then 1 URL is to be retrieved)\r\n",
      "       --no-proxy                  explicitly turn off proxy\r\n",
      "  -Q,  --quota=NUMBER              set retrieval quota to NUMBER\r\n",
      "       --bind-address=ADDRESS      bind to ADDRESS (hostname or IP) on local host\r\n",
      "       --limit-rate=RATE           limit download rate to RATE\r\n",
      "       --no-dns-cache              disable caching DNS lookups\r\n",
      "       --restrict-file-names=OS    restrict chars in file names to ones OS allows\r\n",
      "       --ignore-case               ignore case when matching files/directories\r\n",
      "  -4,  --inet4-only                connect only to IPv4 addresses\r\n",
      "  -6,  --inet6-only                connect only to IPv6 addresses\r\n",
      "       --prefer-family=FAMILY      connect first to addresses of specified family,\r\n",
      "                                     one of IPv6, IPv4, or none\r\n",
      "       --user=USER                 set both ftp and http user to USER\r\n",
      "       --password=PASS             set both ftp and http password to PASS\r\n",
      "       --ask-password              prompt for passwords\r\n",
      "       --use-askpass=COMMAND       specify credential handler for requesting \r\n",
      "                                     username and password.  If no COMMAND is \r\n",
      "                                     specified the WGET_ASKPASS or the SSH_ASKPASS \r\n",
      "                                     environment variable is used.\r\n",
      "       --no-iri                    turn off IRI support\r\n",
      "       --local-encoding=ENC        use ENC as the local encoding for IRIs\r\n",
      "       --remote-encoding=ENC       use ENC as the default remote encoding\r\n",
      "       --unlink                    remove file before clobber\r\n",
      "       --xattr                     turn on storage of metadata in extended file attributes\r\n",
      "\r\n",
      "Directories:\r\n",
      "  -nd, --no-directories            don't create directories\r\n",
      "  -x,  --force-directories         force creation of directories\r\n",
      "  -nH, --no-host-directories       don't create host directories\r\n",
      "       --protocol-directories      use protocol name in directories\r\n",
      "  -P,  --directory-prefix=PREFIX   save files to PREFIX/..\r\n",
      "       --cut-dirs=NUMBER           ignore NUMBER remote directory components\r\n",
      "\r\n",
      "HTTP options:\r\n",
      "       --http-user=USER            set http user to USER\r\n",
      "       --http-password=PASS        set http password to PASS\r\n",
      "       --no-cache                  disallow server-cached data\r\n",
      "       --default-page=NAME         change the default page name (normally\r\n",
      "                                     this is 'index.html'.)\r\n",
      "  -E,  --adjust-extension          save HTML/CSS documents with proper extensions\r\n",
      "       --ignore-length             ignore 'Content-Length' header field\r\n",
      "       --header=STRING             insert STRING among the headers\r\n",
      "       --compression=TYPE          choose compression, one of auto, gzip and none. (default: none)\r\n",
      "       --max-redirect              maximum redirections allowed per page\r\n",
      "       --proxy-user=USER           set USER as proxy username\r\n",
      "       --proxy-password=PASS       set PASS as proxy password\r\n",
      "       --referer=URL               include 'Referer: URL' header in HTTP request\r\n",
      "       --save-headers              save the HTTP headers to file\r\n",
      "  -U,  --user-agent=AGENT          identify as AGENT instead of Wget/VERSION\r\n",
      "       --no-http-keep-alive        disable HTTP keep-alive (persistent connections)\r\n",
      "       --no-cookies                don't use cookies\r\n",
      "       --load-cookies=FILE         load cookies from FILE before session\r\n",
      "       --save-cookies=FILE         save cookies to FILE after session\r\n",
      "       --keep-session-cookies      load and save session (non-permanent) cookies\r\n",
      "       --post-data=STRING          use the POST method; send STRING as the data\r\n",
      "       --post-file=FILE            use the POST method; send contents of FILE\r\n",
      "       --method=HTTPMethod         use method \"HTTPMethod\" in the request\r\n",
      "       --body-data=STRING          send STRING as data. --method MUST be set\r\n",
      "       --body-file=FILE            send contents of FILE. --method MUST be set\r\n",
      "       --content-disposition       honor the Content-Disposition header when\r\n",
      "                                     choosing local file names (EXPERIMENTAL)\r\n",
      "       --content-on-error          output the received content on server errors\r\n",
      "       --auth-no-challenge         send Basic HTTP authentication information\r\n",
      "                                     without first waiting for the server's\r\n",
      "                                     challenge\r\n",
      "\r\n",
      "HTTPS (SSL/TLS) options:\r\n",
      "       --secure-protocol=PR        choose secure protocol, one of auto, SSLv2,\r\n",
      "                                     SSLv3, TLSv1, TLSv1_1, TLSv1_2 and PFS\r\n",
      "       --https-only                only follow secure HTTPS links\r\n",
      "       --no-check-certificate      don't validate the server's certificate\r\n",
      "       --certificate=FILE          client certificate file\r\n",
      "       --certificate-type=TYPE     client certificate type, PEM or DER\r\n",
      "       --private-key=FILE          private key file\r\n",
      "       --private-key-type=TYPE     private key type, PEM or DER\r\n",
      "       --ca-certificate=FILE       file with the bundle of CAs\r\n",
      "       --ca-directory=DIR          directory where hash list of CAs is stored\r\n",
      "       --crl-file=FILE             file with bundle of CRLs\r\n",
      "       --pinnedpubkey=FILE/HASHES  Public key (PEM/DER) file, or any number\r\n",
      "                                   of base64 encoded sha256 hashes preceded by\r\n",
      "                                   'sha256//' and separated by ';', to verify\r\n",
      "                                   peer against\r\n",
      "       --random-file=FILE          file with random data for seeding the SSL PRNG\r\n",
      "\r\n",
      "       --ciphers=STR           Set the priority string (GnuTLS) or cipher list string (OpenSSL) directly.\r\n",
      "                                   Use with care. This option overrides --secure-protocol.\r\n",
      "                                   The format and syntax of this string depend on the specific SSL/TLS engine.\r\n",
      "HSTS options:\r\n",
      "       --no-hsts                   disable HSTS\r\n",
      "       --hsts-file                 path of HSTS database (will override default)\r\n",
      "\r\n",
      "FTP options:\r\n",
      "       --ftp-user=USER             set ftp user to USER\r\n",
      "       --ftp-password=PASS         set ftp password to PASS\r\n",
      "       --no-remove-listing         don't remove '.listing' files\r\n",
      "       --no-glob                   turn off FTP file name globbing\r\n",
      "       --no-passive-ftp            disable the \"passive\" transfer mode\r\n",
      "       --preserve-permissions      preserve remote file permissions\r\n",
      "       --retr-symlinks             when recursing, get linked-to files (not dir)\r\n",
      "\r\n",
      "FTPS options:\r\n",
      "       --ftps-implicit                 use implicit FTPS (default port is 990)\r\n",
      "       --ftps-resume-ssl               resume the SSL/TLS session started in the control connection when\r\n",
      "                                         opening a data connection\r\n",
      "       --ftps-clear-data-connection    cipher the control channel only; all the data will be in plaintext\r\n",
      "       --ftps-fallback-to-ftp          fall back to FTP if FTPS is not supported in the target server\r\n",
      "WARC options:\r\n",
      "       --warc-file=FILENAME        save request/response data to a .warc.gz file\r\n",
      "       --warc-header=STRING        insert STRING into the warcinfo record\r\n",
      "       --warc-max-size=NUMBER      set maximum size of WARC files to NUMBER\r\n",
      "       --warc-cdx                  write CDX index files\r\n",
      "       --warc-dedup=FILENAME       do not store records listed in this CDX file\r\n",
      "       --no-warc-compression       do not compress WARC files with GZIP\r\n",
      "       --no-warc-digests           do not calculate SHA1 digests\r\n",
      "       --no-warc-keep-log          do not store the log file in a WARC record\r\n",
      "       --warc-tempdir=DIRECTORY    location for temporary files created by the\r\n",
      "                                     WARC writer\r\n",
      "\r\n",
      "Recursive download:\r\n",
      "  -r,  --recursive                 specify recursive download\r\n",
      "  -l,  --level=NUMBER              maximum recursion depth (inf or 0 for infinite)\r\n",
      "       --delete-after              delete files locally after downloading them\r\n",
      "  -k,  --convert-links             make links in downloaded HTML or CSS point to\r\n",
      "                                     local files\r\n",
      "       --convert-file-only         convert the file part of the URLs only (usually known as the basename)\r\n",
      "       --backups=N                 before writing file X, rotate up to N backup files\r\n",
      "  -K,  --backup-converted          before converting file X, back up as X.orig\r\n",
      "  -m,  --mirror                    shortcut for -N -r -l inf --no-remove-listing\r\n",
      "  -p,  --page-requisites           get all images, etc. needed to display HTML page\r\n",
      "       --strict-comments           turn on strict (SGML) handling of HTML comments\r\n",
      "\r\n",
      "Recursive accept/reject:\r\n",
      "  -A,  --accept=LIST               comma-separated list of accepted extensions\r\n",
      "  -R,  --reject=LIST               comma-separated list of rejected extensions\r\n",
      "       --accept-regex=REGEX        regex matching accepted URLs\r\n",
      "       --reject-regex=REGEX        regex matching rejected URLs\r\n",
      "       --regex-type=TYPE           regex type (posix|pcre)\r\n",
      "  -D,  --domains=LIST              comma-separated list of accepted domains\r\n",
      "       --exclude-domains=LIST      comma-separated list of rejected domains\r\n",
      "       --follow-ftp                follow FTP links from HTML documents\r\n",
      "       --follow-tags=LIST          comma-separated list of followed HTML tags\r\n",
      "       --ignore-tags=LIST          comma-separated list of ignored HTML tags\r\n",
      "  -H,  --span-hosts                go to foreign hosts when recursive\r\n",
      "  -L,  --relative                  follow relative links only\r\n",
      "  -I,  --include-directories=LIST  list of allowed directories\r\n",
      "       --trust-server-names        use the name specified by the redirection\r\n",
      "                                     URL's last component\r\n",
      "  -X,  --exclude-directories=LIST  list of excluded directories\r\n",
      "  -np, --no-parent                 don't ascend to the parent directory\r\n",
      "\r\n",
      "Email bug reports, questions, discussions to <bug-wget@gnu.org>\r\n",
      "and/or open issues at https://savannah.gnu.org/bugs/?func=additem&group=wget.\r\n"
     ]
    }
   ],
   "source": [
    "!wget --help"
   ]
  },
  {
   "cell_type": "code",
   "execution_count": 4,
   "id": "f170f244",
   "metadata": {},
   "outputs": [
    {
     "name": "stdout",
     "output_type": "stream",
     "text": [
      "--2022-09-22 23:59:51--  https://raw.githubusercontent.com/alexeygrigorev/mlbookcamp-code/master/chapter-02-car-price/data.csv\n",
      "Resolving raw.githubusercontent.com (raw.githubusercontent.com)... 185.199.111.133, 185.199.109.133, 185.199.110.133, ...\n",
      "Connecting to raw.githubusercontent.com (raw.githubusercontent.com)|185.199.111.133|:443... connected.\n",
      "HTTP request sent, awaiting response... 200 OK\n",
      "Length: 1475504 (1.4M) [text/plain]\n",
      "Saving to: ‘data.csv.3’\n",
      "\n",
      "data.csv.3          100%[===================>]   1.41M   296KB/s    in 4.9s    \n",
      "\n",
      "2022-09-22 23:59:59 (296 KB/s) - ‘data.csv.3’ saved [1475504/1475504]\n",
      "\n"
     ]
    }
   ],
   "source": [
    "!wget https://raw.githubusercontent.com/alexeygrigorev/mlbookcamp-code/master/chapter-02-car-price/data.csv"
   ]
  },
  {
   "cell_type": "markdown",
   "id": "d15f67f8",
   "metadata": {},
   "source": [
    "### Read data"
   ]
  },
  {
   "cell_type": "code",
   "execution_count": 5,
   "id": "dbee2099",
   "metadata": {},
   "outputs": [
    {
     "name": "stdout",
     "output_type": "stream",
     "text": [
      "<class 'pandas.core.frame.DataFrame'>\n"
     ]
    }
   ],
   "source": [
    "file_path = \"data.csv\"\n",
    "data = pd.read_csv(file_path, encoding='utf-8')\n",
    "\n",
    "print(type(data))"
   ]
  },
  {
   "cell_type": "code",
   "execution_count": 6,
   "id": "f132a279",
   "metadata": {},
   "outputs": [
    {
     "data": {
      "text/html": [
       "<div>\n",
       "<style scoped>\n",
       "    .dataframe tbody tr th:only-of-type {\n",
       "        vertical-align: middle;\n",
       "    }\n",
       "\n",
       "    .dataframe tbody tr th {\n",
       "        vertical-align: top;\n",
       "    }\n",
       "\n",
       "    .dataframe thead th {\n",
       "        text-align: right;\n",
       "    }\n",
       "</style>\n",
       "<table border=\"1\" class=\"dataframe\">\n",
       "  <thead>\n",
       "    <tr style=\"text-align: right;\">\n",
       "      <th></th>\n",
       "      <th>Make</th>\n",
       "      <th>Model</th>\n",
       "      <th>Year</th>\n",
       "      <th>Engine Fuel Type</th>\n",
       "      <th>Engine HP</th>\n",
       "      <th>Engine Cylinders</th>\n",
       "      <th>Transmission Type</th>\n",
       "      <th>Driven_Wheels</th>\n",
       "      <th>Number of Doors</th>\n",
       "      <th>Market Category</th>\n",
       "      <th>Vehicle Size</th>\n",
       "      <th>Vehicle Style</th>\n",
       "      <th>highway MPG</th>\n",
       "      <th>city mpg</th>\n",
       "      <th>Popularity</th>\n",
       "      <th>MSRP</th>\n",
       "    </tr>\n",
       "  </thead>\n",
       "  <tbody>\n",
       "    <tr>\n",
       "      <th>0</th>\n",
       "      <td>BMW</td>\n",
       "      <td>1 Series M</td>\n",
       "      <td>2011</td>\n",
       "      <td>premium unleaded (required)</td>\n",
       "      <td>335.0</td>\n",
       "      <td>6.0</td>\n",
       "      <td>MANUAL</td>\n",
       "      <td>rear wheel drive</td>\n",
       "      <td>2.0</td>\n",
       "      <td>Factory Tuner,Luxury,High-Performance</td>\n",
       "      <td>Compact</td>\n",
       "      <td>Coupe</td>\n",
       "      <td>26</td>\n",
       "      <td>19</td>\n",
       "      <td>3916</td>\n",
       "      <td>46135</td>\n",
       "    </tr>\n",
       "    <tr>\n",
       "      <th>1</th>\n",
       "      <td>BMW</td>\n",
       "      <td>1 Series</td>\n",
       "      <td>2011</td>\n",
       "      <td>premium unleaded (required)</td>\n",
       "      <td>300.0</td>\n",
       "      <td>6.0</td>\n",
       "      <td>MANUAL</td>\n",
       "      <td>rear wheel drive</td>\n",
       "      <td>2.0</td>\n",
       "      <td>Luxury,Performance</td>\n",
       "      <td>Compact</td>\n",
       "      <td>Convertible</td>\n",
       "      <td>28</td>\n",
       "      <td>19</td>\n",
       "      <td>3916</td>\n",
       "      <td>40650</td>\n",
       "    </tr>\n",
       "    <tr>\n",
       "      <th>2</th>\n",
       "      <td>BMW</td>\n",
       "      <td>1 Series</td>\n",
       "      <td>2011</td>\n",
       "      <td>premium unleaded (required)</td>\n",
       "      <td>300.0</td>\n",
       "      <td>6.0</td>\n",
       "      <td>MANUAL</td>\n",
       "      <td>rear wheel drive</td>\n",
       "      <td>2.0</td>\n",
       "      <td>Luxury,High-Performance</td>\n",
       "      <td>Compact</td>\n",
       "      <td>Coupe</td>\n",
       "      <td>28</td>\n",
       "      <td>20</td>\n",
       "      <td>3916</td>\n",
       "      <td>36350</td>\n",
       "    </tr>\n",
       "    <tr>\n",
       "      <th>3</th>\n",
       "      <td>BMW</td>\n",
       "      <td>1 Series</td>\n",
       "      <td>2011</td>\n",
       "      <td>premium unleaded (required)</td>\n",
       "      <td>230.0</td>\n",
       "      <td>6.0</td>\n",
       "      <td>MANUAL</td>\n",
       "      <td>rear wheel drive</td>\n",
       "      <td>2.0</td>\n",
       "      <td>Luxury,Performance</td>\n",
       "      <td>Compact</td>\n",
       "      <td>Coupe</td>\n",
       "      <td>28</td>\n",
       "      <td>18</td>\n",
       "      <td>3916</td>\n",
       "      <td>29450</td>\n",
       "    </tr>\n",
       "    <tr>\n",
       "      <th>4</th>\n",
       "      <td>BMW</td>\n",
       "      <td>1 Series</td>\n",
       "      <td>2011</td>\n",
       "      <td>premium unleaded (required)</td>\n",
       "      <td>230.0</td>\n",
       "      <td>6.0</td>\n",
       "      <td>MANUAL</td>\n",
       "      <td>rear wheel drive</td>\n",
       "      <td>2.0</td>\n",
       "      <td>Luxury</td>\n",
       "      <td>Compact</td>\n",
       "      <td>Convertible</td>\n",
       "      <td>28</td>\n",
       "      <td>18</td>\n",
       "      <td>3916</td>\n",
       "      <td>34500</td>\n",
       "    </tr>\n",
       "    <tr>\n",
       "      <th>...</th>\n",
       "      <td>...</td>\n",
       "      <td>...</td>\n",
       "      <td>...</td>\n",
       "      <td>...</td>\n",
       "      <td>...</td>\n",
       "      <td>...</td>\n",
       "      <td>...</td>\n",
       "      <td>...</td>\n",
       "      <td>...</td>\n",
       "      <td>...</td>\n",
       "      <td>...</td>\n",
       "      <td>...</td>\n",
       "      <td>...</td>\n",
       "      <td>...</td>\n",
       "      <td>...</td>\n",
       "      <td>...</td>\n",
       "    </tr>\n",
       "    <tr>\n",
       "      <th>11909</th>\n",
       "      <td>Acura</td>\n",
       "      <td>ZDX</td>\n",
       "      <td>2012</td>\n",
       "      <td>premium unleaded (required)</td>\n",
       "      <td>300.0</td>\n",
       "      <td>6.0</td>\n",
       "      <td>AUTOMATIC</td>\n",
       "      <td>all wheel drive</td>\n",
       "      <td>4.0</td>\n",
       "      <td>Crossover,Hatchback,Luxury</td>\n",
       "      <td>Midsize</td>\n",
       "      <td>4dr Hatchback</td>\n",
       "      <td>23</td>\n",
       "      <td>16</td>\n",
       "      <td>204</td>\n",
       "      <td>46120</td>\n",
       "    </tr>\n",
       "    <tr>\n",
       "      <th>11910</th>\n",
       "      <td>Acura</td>\n",
       "      <td>ZDX</td>\n",
       "      <td>2012</td>\n",
       "      <td>premium unleaded (required)</td>\n",
       "      <td>300.0</td>\n",
       "      <td>6.0</td>\n",
       "      <td>AUTOMATIC</td>\n",
       "      <td>all wheel drive</td>\n",
       "      <td>4.0</td>\n",
       "      <td>Crossover,Hatchback,Luxury</td>\n",
       "      <td>Midsize</td>\n",
       "      <td>4dr Hatchback</td>\n",
       "      <td>23</td>\n",
       "      <td>16</td>\n",
       "      <td>204</td>\n",
       "      <td>56670</td>\n",
       "    </tr>\n",
       "    <tr>\n",
       "      <th>11911</th>\n",
       "      <td>Acura</td>\n",
       "      <td>ZDX</td>\n",
       "      <td>2012</td>\n",
       "      <td>premium unleaded (required)</td>\n",
       "      <td>300.0</td>\n",
       "      <td>6.0</td>\n",
       "      <td>AUTOMATIC</td>\n",
       "      <td>all wheel drive</td>\n",
       "      <td>4.0</td>\n",
       "      <td>Crossover,Hatchback,Luxury</td>\n",
       "      <td>Midsize</td>\n",
       "      <td>4dr Hatchback</td>\n",
       "      <td>23</td>\n",
       "      <td>16</td>\n",
       "      <td>204</td>\n",
       "      <td>50620</td>\n",
       "    </tr>\n",
       "    <tr>\n",
       "      <th>11912</th>\n",
       "      <td>Acura</td>\n",
       "      <td>ZDX</td>\n",
       "      <td>2013</td>\n",
       "      <td>premium unleaded (recommended)</td>\n",
       "      <td>300.0</td>\n",
       "      <td>6.0</td>\n",
       "      <td>AUTOMATIC</td>\n",
       "      <td>all wheel drive</td>\n",
       "      <td>4.0</td>\n",
       "      <td>Crossover,Hatchback,Luxury</td>\n",
       "      <td>Midsize</td>\n",
       "      <td>4dr Hatchback</td>\n",
       "      <td>23</td>\n",
       "      <td>16</td>\n",
       "      <td>204</td>\n",
       "      <td>50920</td>\n",
       "    </tr>\n",
       "    <tr>\n",
       "      <th>11913</th>\n",
       "      <td>Lincoln</td>\n",
       "      <td>Zephyr</td>\n",
       "      <td>2006</td>\n",
       "      <td>regular unleaded</td>\n",
       "      <td>221.0</td>\n",
       "      <td>6.0</td>\n",
       "      <td>AUTOMATIC</td>\n",
       "      <td>front wheel drive</td>\n",
       "      <td>4.0</td>\n",
       "      <td>Luxury</td>\n",
       "      <td>Midsize</td>\n",
       "      <td>Sedan</td>\n",
       "      <td>26</td>\n",
       "      <td>17</td>\n",
       "      <td>61</td>\n",
       "      <td>28995</td>\n",
       "    </tr>\n",
       "  </tbody>\n",
       "</table>\n",
       "<p>11914 rows × 16 columns</p>\n",
       "</div>"
      ],
      "text/plain": [
       "          Make       Model  Year                Engine Fuel Type  Engine HP  \\\n",
       "0          BMW  1 Series M  2011     premium unleaded (required)      335.0   \n",
       "1          BMW    1 Series  2011     premium unleaded (required)      300.0   \n",
       "2          BMW    1 Series  2011     premium unleaded (required)      300.0   \n",
       "3          BMW    1 Series  2011     premium unleaded (required)      230.0   \n",
       "4          BMW    1 Series  2011     premium unleaded (required)      230.0   \n",
       "...        ...         ...   ...                             ...        ...   \n",
       "11909    Acura         ZDX  2012     premium unleaded (required)      300.0   \n",
       "11910    Acura         ZDX  2012     premium unleaded (required)      300.0   \n",
       "11911    Acura         ZDX  2012     premium unleaded (required)      300.0   \n",
       "11912    Acura         ZDX  2013  premium unleaded (recommended)      300.0   \n",
       "11913  Lincoln      Zephyr  2006                regular unleaded      221.0   \n",
       "\n",
       "       Engine Cylinders Transmission Type      Driven_Wheels  Number of Doors  \\\n",
       "0                   6.0            MANUAL   rear wheel drive              2.0   \n",
       "1                   6.0            MANUAL   rear wheel drive              2.0   \n",
       "2                   6.0            MANUAL   rear wheel drive              2.0   \n",
       "3                   6.0            MANUAL   rear wheel drive              2.0   \n",
       "4                   6.0            MANUAL   rear wheel drive              2.0   \n",
       "...                 ...               ...                ...              ...   \n",
       "11909               6.0         AUTOMATIC    all wheel drive              4.0   \n",
       "11910               6.0         AUTOMATIC    all wheel drive              4.0   \n",
       "11911               6.0         AUTOMATIC    all wheel drive              4.0   \n",
       "11912               6.0         AUTOMATIC    all wheel drive              4.0   \n",
       "11913               6.0         AUTOMATIC  front wheel drive              4.0   \n",
       "\n",
       "                             Market Category Vehicle Size  Vehicle Style  \\\n",
       "0      Factory Tuner,Luxury,High-Performance      Compact          Coupe   \n",
       "1                         Luxury,Performance      Compact    Convertible   \n",
       "2                    Luxury,High-Performance      Compact          Coupe   \n",
       "3                         Luxury,Performance      Compact          Coupe   \n",
       "4                                     Luxury      Compact    Convertible   \n",
       "...                                      ...          ...            ...   \n",
       "11909             Crossover,Hatchback,Luxury      Midsize  4dr Hatchback   \n",
       "11910             Crossover,Hatchback,Luxury      Midsize  4dr Hatchback   \n",
       "11911             Crossover,Hatchback,Luxury      Midsize  4dr Hatchback   \n",
       "11912             Crossover,Hatchback,Luxury      Midsize  4dr Hatchback   \n",
       "11913                                 Luxury      Midsize          Sedan   \n",
       "\n",
       "       highway MPG  city mpg  Popularity   MSRP  \n",
       "0               26        19        3916  46135  \n",
       "1               28        19        3916  40650  \n",
       "2               28        20        3916  36350  \n",
       "3               28        18        3916  29450  \n",
       "4               28        18        3916  34500  \n",
       "...            ...       ...         ...    ...  \n",
       "11909           23        16         204  46120  \n",
       "11910           23        16         204  56670  \n",
       "11911           23        16         204  50620  \n",
       "11912           23        16         204  50920  \n",
       "11913           26        17          61  28995  \n",
       "\n",
       "[11914 rows x 16 columns]"
      ]
     },
     "execution_count": 6,
     "metadata": {},
     "output_type": "execute_result"
    }
   ],
   "source": [
    "data"
   ]
  },
  {
   "cell_type": "code",
   "execution_count": 7,
   "id": "5f779b28",
   "metadata": {},
   "outputs": [
    {
     "data": {
      "text/plain": [
       "(11914, 16)"
      ]
     },
     "execution_count": 7,
     "metadata": {},
     "output_type": "execute_result"
    }
   ],
   "source": [
    "# Count dataset records\n",
    "data.shape"
   ]
  },
  {
   "cell_type": "code",
   "execution_count": 8,
   "id": "cf0251a8",
   "metadata": {},
   "outputs": [
    {
     "data": {
      "text/plain": [
       "RangeIndex(start=0, stop=11914, step=1)"
      ]
     },
     "execution_count": 8,
     "metadata": {},
     "output_type": "execute_result"
    }
   ],
   "source": [
    "data.index"
   ]
  },
  {
   "cell_type": "code",
   "execution_count": 9,
   "id": "7a3f233d",
   "metadata": {},
   "outputs": [],
   "source": [
    "# Count Make frequency(Frequency of Car manufacturer)\n",
    "car_make = data.groupby('Make')['Make'].count().sort_values(ascending=False)"
   ]
  },
  {
   "cell_type": "code",
   "execution_count": 10,
   "id": "5803af70",
   "metadata": {
    "scrolled": true
   },
   "outputs": [
    {
     "data": {
      "text/plain": [
       "Make\n",
       "Chevrolet     1123\n",
       "Ford           881\n",
       "Volkswagen     809\n",
       "Toyota         746\n",
       "Dodge          626\n",
       "Name: Make, dtype: int64"
      ]
     },
     "execution_count": 10,
     "metadata": {},
     "output_type": "execute_result"
    }
   ],
   "source": [
    "car_make.head()"
   ]
  },
  {
   "cell_type": "code",
   "execution_count": 11,
   "id": "84078cc9",
   "metadata": {},
   "outputs": [
    {
     "data": {
      "text/plain": [
       "Chevrolet     1123\n",
       "Ford           881\n",
       "Volkswagen     809\n",
       "Toyota         746\n",
       "Dodge          626\n",
       "Name: Make, dtype: int64"
      ]
     },
     "execution_count": 11,
     "metadata": {},
     "output_type": "execute_result"
    }
   ],
   "source": [
    "# alternative\n",
    "data['Make'].value_counts().head()"
   ]
  },
  {
   "cell_type": "code",
   "execution_count": 12,
   "id": "ddc1b5f0",
   "metadata": {},
   "outputs": [
    {
     "data": {
      "text/plain": [
       "34"
      ]
     },
     "execution_count": 12,
     "metadata": {},
     "output_type": "execute_result"
    }
   ],
   "source": [
    "# Number of unique Audis\n",
    "data[\n",
    "    data['Make'] == 'Audi'\n",
    "]['Model'].nunique()"
   ]
  },
  {
   "cell_type": "code",
   "execution_count": 13,
   "id": "0f3ef0d8",
   "metadata": {
    "scrolled": true
   },
   "outputs": [
    {
     "name": "stdout",
     "output_type": "stream",
     "text": [
      "['100' '200' '80' '90' 'A3' 'A4 allroad' 'A4' 'A5' 'A6' 'A7' 'A8'\n",
      " 'allroad quattro' 'allroad' 'Cabriolet' 'Coupe' 'Q3' 'Q5' 'Q7' 'R8'\n",
      " 'RS 4' 'RS 5' 'RS 6' 'RS 7' 'S3' 'S4' 'S5' 'S6' 'S7' 'S8' 'SQ5' 'TT RS'\n",
      " 'TT' 'TTS' 'V8']\n",
      "['100' '200' '80' '90' 'A3' 'A4 allroad' 'A4' 'A5' 'A6' 'A7' 'A8'\n",
      " 'allroad quattro' 'allroad' 'Cabriolet' 'Coupe' 'Q3' 'Q5' 'Q7' 'R8'\n",
      " 'RS 4' 'RS 5' 'RS 6' 'RS 7' 'S3' 'S4' 'S5' 'S6' 'S7' 'S8' 'SQ5' 'TT RS'\n",
      " 'TT' 'TTS' 'V8']\n"
     ]
    }
   ],
   "source": [
    "# Jibberish\n",
    "\n",
    "make_mod = data[data['Make']=='Audi']\n",
    "audi_model = make_mod[[\"Make\", \"Model\"]]\n",
    "for col in audi_model:\n",
    "    print(audi_model[\"Model\"].unique())"
   ]
  },
  {
   "cell_type": "markdown",
   "id": "6e33ec4a",
   "metadata": {},
   "source": [
    "34"
   ]
  },
  {
   "cell_type": "code",
   "execution_count": 14,
   "id": "c7a65da1",
   "metadata": {},
   "outputs": [
    {
     "data": {
      "text/plain": [
       "Make                    0\n",
       "Model                   0\n",
       "Year                    0\n",
       "Engine Fuel Type        3\n",
       "Engine HP              69\n",
       "Engine Cylinders       30\n",
       "Transmission Type       0\n",
       "Driven_Wheels           0\n",
       "Number of Doors         6\n",
       "Market Category      3742\n",
       "Vehicle Size            0\n",
       "Vehicle Style           0\n",
       "highway MPG             0\n",
       "city mpg                0\n",
       "Popularity              0\n",
       "MSRP                    0\n",
       "dtype: int64"
      ]
     },
     "execution_count": 14,
     "metadata": {},
     "output_type": "execute_result"
    }
   ],
   "source": [
    "# Check Columns with missing values\n",
    "data.isnull().sum()"
   ]
  },
  {
   "cell_type": "markdown",
   "id": "e2b4b8d8",
   "metadata": {},
   "source": [
    "1. Find the median value of \"Engine Cylinders\" column in the dataset.\n",
    "2. Next, calculate the most frequent value of the same \"Engine Cylinders\".\n",
    "3. Use the fillna method to fill the missing values in \"Engine Cylinders\" with the most frequent value from the previous step.\n",
    "4. Now, calculate the median value of \"Engine Cylinders\" once again."
   ]
  },
  {
   "cell_type": "code",
   "execution_count": 15,
   "id": "2c8ddc85",
   "metadata": {},
   "outputs": [
    {
     "data": {
      "text/plain": [
       "4.0     4752\n",
       "6.0     4489\n",
       "8.0     2031\n",
       "12.0     230\n",
       "5.0      225\n",
       "10.0      68\n",
       "0.0       56\n",
       "3.0       30\n",
       "16.0       3\n",
       "Name: Engine Cylinders, dtype: int64"
      ]
     },
     "execution_count": 15,
     "metadata": {},
     "output_type": "execute_result"
    }
   ],
   "source": [
    "data['Engine Cylinders'].value_counts()"
   ]
  },
  {
   "cell_type": "code",
   "execution_count": 16,
   "id": "93af33f6",
   "metadata": {},
   "outputs": [
    {
     "data": {
      "text/html": [
       "<div>\n",
       "<style scoped>\n",
       "    .dataframe tbody tr th:only-of-type {\n",
       "        vertical-align: middle;\n",
       "    }\n",
       "\n",
       "    .dataframe tbody tr th {\n",
       "        vertical-align: top;\n",
       "    }\n",
       "\n",
       "    .dataframe thead th {\n",
       "        text-align: right;\n",
       "    }\n",
       "</style>\n",
       "<table border=\"1\" class=\"dataframe\">\n",
       "  <thead>\n",
       "    <tr style=\"text-align: right;\">\n",
       "      <th></th>\n",
       "      <th>Year</th>\n",
       "      <th>Engine HP</th>\n",
       "      <th>Engine Cylinders</th>\n",
       "      <th>Number of Doors</th>\n",
       "      <th>highway MPG</th>\n",
       "      <th>city mpg</th>\n",
       "      <th>Popularity</th>\n",
       "      <th>MSRP</th>\n",
       "    </tr>\n",
       "  </thead>\n",
       "  <tbody>\n",
       "    <tr>\n",
       "      <th>count</th>\n",
       "      <td>11914.000000</td>\n",
       "      <td>11845.00000</td>\n",
       "      <td>11884.000000</td>\n",
       "      <td>11908.000000</td>\n",
       "      <td>11914.000000</td>\n",
       "      <td>11914.000000</td>\n",
       "      <td>11914.000000</td>\n",
       "      <td>1.191400e+04</td>\n",
       "    </tr>\n",
       "    <tr>\n",
       "      <th>mean</th>\n",
       "      <td>2010.384338</td>\n",
       "      <td>249.38607</td>\n",
       "      <td>5.628829</td>\n",
       "      <td>3.436093</td>\n",
       "      <td>26.637485</td>\n",
       "      <td>19.733255</td>\n",
       "      <td>1554.911197</td>\n",
       "      <td>4.059474e+04</td>\n",
       "    </tr>\n",
       "    <tr>\n",
       "      <th>std</th>\n",
       "      <td>7.579740</td>\n",
       "      <td>109.19187</td>\n",
       "      <td>1.780559</td>\n",
       "      <td>0.881315</td>\n",
       "      <td>8.863001</td>\n",
       "      <td>8.987798</td>\n",
       "      <td>1441.855347</td>\n",
       "      <td>6.010910e+04</td>\n",
       "    </tr>\n",
       "    <tr>\n",
       "      <th>min</th>\n",
       "      <td>1990.000000</td>\n",
       "      <td>55.00000</td>\n",
       "      <td>0.000000</td>\n",
       "      <td>2.000000</td>\n",
       "      <td>12.000000</td>\n",
       "      <td>7.000000</td>\n",
       "      <td>2.000000</td>\n",
       "      <td>2.000000e+03</td>\n",
       "    </tr>\n",
       "    <tr>\n",
       "      <th>25%</th>\n",
       "      <td>2007.000000</td>\n",
       "      <td>170.00000</td>\n",
       "      <td>4.000000</td>\n",
       "      <td>2.000000</td>\n",
       "      <td>22.000000</td>\n",
       "      <td>16.000000</td>\n",
       "      <td>549.000000</td>\n",
       "      <td>2.100000e+04</td>\n",
       "    </tr>\n",
       "    <tr>\n",
       "      <th>50%</th>\n",
       "      <td>2015.000000</td>\n",
       "      <td>227.00000</td>\n",
       "      <td>6.000000</td>\n",
       "      <td>4.000000</td>\n",
       "      <td>26.000000</td>\n",
       "      <td>18.000000</td>\n",
       "      <td>1385.000000</td>\n",
       "      <td>2.999500e+04</td>\n",
       "    </tr>\n",
       "    <tr>\n",
       "      <th>75%</th>\n",
       "      <td>2016.000000</td>\n",
       "      <td>300.00000</td>\n",
       "      <td>6.000000</td>\n",
       "      <td>4.000000</td>\n",
       "      <td>30.000000</td>\n",
       "      <td>22.000000</td>\n",
       "      <td>2009.000000</td>\n",
       "      <td>4.223125e+04</td>\n",
       "    </tr>\n",
       "    <tr>\n",
       "      <th>max</th>\n",
       "      <td>2017.000000</td>\n",
       "      <td>1001.00000</td>\n",
       "      <td>16.000000</td>\n",
       "      <td>4.000000</td>\n",
       "      <td>354.000000</td>\n",
       "      <td>137.000000</td>\n",
       "      <td>5657.000000</td>\n",
       "      <td>2.065902e+06</td>\n",
       "    </tr>\n",
       "  </tbody>\n",
       "</table>\n",
       "</div>"
      ],
      "text/plain": [
       "               Year    Engine HP  Engine Cylinders  Number of Doors  \\\n",
       "count  11914.000000  11845.00000      11884.000000     11908.000000   \n",
       "mean    2010.384338    249.38607          5.628829         3.436093   \n",
       "std        7.579740    109.19187          1.780559         0.881315   \n",
       "min     1990.000000     55.00000          0.000000         2.000000   \n",
       "25%     2007.000000    170.00000          4.000000         2.000000   \n",
       "50%     2015.000000    227.00000          6.000000         4.000000   \n",
       "75%     2016.000000    300.00000          6.000000         4.000000   \n",
       "max     2017.000000   1001.00000         16.000000         4.000000   \n",
       "\n",
       "        highway MPG      city mpg    Popularity          MSRP  \n",
       "count  11914.000000  11914.000000  11914.000000  1.191400e+04  \n",
       "mean      26.637485     19.733255   1554.911197  4.059474e+04  \n",
       "std        8.863001      8.987798   1441.855347  6.010910e+04  \n",
       "min       12.000000      7.000000      2.000000  2.000000e+03  \n",
       "25%       22.000000     16.000000    549.000000  2.100000e+04  \n",
       "50%       26.000000     18.000000   1385.000000  2.999500e+04  \n",
       "75%       30.000000     22.000000   2009.000000  4.223125e+04  \n",
       "max      354.000000    137.000000   5657.000000  2.065902e+06  "
      ]
     },
     "execution_count": 16,
     "metadata": {},
     "output_type": "execute_result"
    }
   ],
   "source": [
    "data.describe()"
   ]
  },
  {
   "cell_type": "code",
   "execution_count": 17,
   "id": "5bac3c1e",
   "metadata": {},
   "outputs": [
    {
     "data": {
      "text/plain": [
       "6.0"
      ]
     },
     "execution_count": 17,
     "metadata": {},
     "output_type": "execute_result"
    }
   ],
   "source": [
    "# Median\n",
    "\n",
    "eng_cyl_median = data['Engine Cylinders'].median()\n",
    "eng_cyl_median"
   ]
  },
  {
   "cell_type": "code",
   "execution_count": 18,
   "id": "2c445493",
   "metadata": {},
   "outputs": [
    {
     "data": {
      "text/plain": [
       "4.0"
      ]
     },
     "execution_count": 18,
     "metadata": {},
     "output_type": "execute_result"
    }
   ],
   "source": [
    "# Mode\n",
    "\n",
    "eng_cyl_mode = data['Engine Cylinders'].mode()[0]\n",
    "eng_cyl_mode"
   ]
  },
  {
   "cell_type": "code",
   "execution_count": 19,
   "id": "17add05d",
   "metadata": {},
   "outputs": [
    {
     "data": {
      "text/plain": [
       "6.0"
      ]
     },
     "execution_count": 19,
     "metadata": {},
     "output_type": "execute_result"
    }
   ],
   "source": [
    "# Median after filling missing values\n",
    "# fillna method is used to fill missing values\n",
    "\n",
    "eng_cyl_median = data['Engine Cylinders'].fillna(eng_cyl_median).median()\n",
    "eng_cyl_median"
   ]
  },
  {
   "cell_type": "markdown",
   "id": "3e7e06e3",
   "metadata": {},
   "source": [
    "1. Select all \"Lotus\" cars\n",
    "2. Select only \"Engine HP\", \"Engine Cylinders\"\n",
    "3. Drop duplicate rows using drop_duplicates"
   ]
  },
  {
   "cell_type": "code",
   "execution_count": 20,
   "id": "39455ced",
   "metadata": {},
   "outputs": [
    {
     "data": {
      "text/html": [
       "<div>\n",
       "<style scoped>\n",
       "    .dataframe tbody tr th:only-of-type {\n",
       "        vertical-align: middle;\n",
       "    }\n",
       "\n",
       "    .dataframe tbody tr th {\n",
       "        vertical-align: top;\n",
       "    }\n",
       "\n",
       "    .dataframe thead th {\n",
       "        text-align: right;\n",
       "    }\n",
       "</style>\n",
       "<table border=\"1\" class=\"dataframe\">\n",
       "  <thead>\n",
       "    <tr style=\"text-align: right;\">\n",
       "      <th></th>\n",
       "      <th>Engine HP</th>\n",
       "      <th>Engine Cylinders</th>\n",
       "    </tr>\n",
       "  </thead>\n",
       "  <tbody>\n",
       "    <tr>\n",
       "      <th>3912</th>\n",
       "      <td>189.0</td>\n",
       "      <td>4.0</td>\n",
       "    </tr>\n",
       "    <tr>\n",
       "      <th>3913</th>\n",
       "      <td>218.0</td>\n",
       "      <td>4.0</td>\n",
       "    </tr>\n",
       "    <tr>\n",
       "      <th>3918</th>\n",
       "      <td>217.0</td>\n",
       "      <td>4.0</td>\n",
       "    </tr>\n",
       "    <tr>\n",
       "      <th>4216</th>\n",
       "      <td>350.0</td>\n",
       "      <td>8.0</td>\n",
       "    </tr>\n",
       "    <tr>\n",
       "      <th>4257</th>\n",
       "      <td>400.0</td>\n",
       "      <td>6.0</td>\n",
       "    </tr>\n",
       "    <tr>\n",
       "      <th>4259</th>\n",
       "      <td>276.0</td>\n",
       "      <td>6.0</td>\n",
       "    </tr>\n",
       "    <tr>\n",
       "      <th>4262</th>\n",
       "      <td>345.0</td>\n",
       "      <td>6.0</td>\n",
       "    </tr>\n",
       "    <tr>\n",
       "      <th>4292</th>\n",
       "      <td>257.0</td>\n",
       "      <td>4.0</td>\n",
       "    </tr>\n",
       "    <tr>\n",
       "      <th>4293</th>\n",
       "      <td>240.0</td>\n",
       "      <td>4.0</td>\n",
       "    </tr>\n",
       "  </tbody>\n",
       "</table>\n",
       "</div>"
      ],
      "text/plain": [
       "      Engine HP  Engine Cylinders\n",
       "3912      189.0               4.0\n",
       "3913      218.0               4.0\n",
       "3918      217.0               4.0\n",
       "4216      350.0               8.0\n",
       "4257      400.0               6.0\n",
       "4259      276.0               6.0\n",
       "4262      345.0               6.0\n",
       "4292      257.0               4.0\n",
       "4293      240.0               4.0"
      ]
     },
     "execution_count": 20,
     "metadata": {},
     "output_type": "execute_result"
    }
   ],
   "source": [
    "lotus_data = data[data['Make'] == 'Lotus']\n",
    "lotus_data = lotus_data[['Engine HP', 'Engine Cylinders']]\n",
    "lotus_data = lotus_data.drop_duplicates()\n",
    "lotus_data"
   ]
  },
  {
   "cell_type": "markdown",
   "id": "9cf7dca0",
   "metadata": {},
   "source": [
    "4. Get the underlying NumPy array. (X)"
   ]
  },
  {
   "cell_type": "code",
   "execution_count": 21,
   "id": "83bccd86",
   "metadata": {},
   "outputs": [
    {
     "data": {
      "text/plain": [
       "array([[189.,   4.],\n",
       "       [218.,   4.],\n",
       "       [217.,   4.],\n",
       "       [350.,   8.],\n",
       "       [400.,   6.],\n",
       "       [276.,   6.],\n",
       "       [345.,   6.],\n",
       "       [257.,   4.],\n",
       "       [240.,   4.]])"
      ]
     },
     "execution_count": 21,
     "metadata": {},
     "output_type": "execute_result"
    }
   ],
   "source": [
    "X = lotus_data.to_numpy()\n",
    "X"
   ]
  },
  {
   "cell_type": "markdown",
   "id": "93d7bff4",
   "metadata": {},
   "source": [
    "5. Compute matrix-matrix multiplication between the transpose of X and X. To get the transpose, use X.T. Let's call the result XTX.\n",
    "6. Invert XTX.\n",
    "7. Create an array y with values [1100, 800, 750, 850, 1300, 1000, 1000, 1300, 800].\n",
    "8. Multiply the inverse of XTX with the transpose of X, and then multiply the result by y. Call the result w."
   ]
  },
  {
   "cell_type": "code",
   "execution_count": 22,
   "id": "ee5230ec",
   "metadata": {},
   "outputs": [
    {
     "data": {
      "text/plain": [
       "array([[ 5.53084235e-05, -2.94319825e-03],\n",
       "       [-2.94319825e-03,  1.60588447e-01]])"
      ]
     },
     "execution_count": 22,
     "metadata": {},
     "output_type": "execute_result"
    }
   ],
   "source": [
    "# Matrix Matrix multiplication between the transpose of X and X\n",
    "\n",
    "XTX = X.T @ X\n",
    "XTX_inv = np.linalg.inv(XTX)\n",
    "XTX_inv"
   ]
  },
  {
   "cell_type": "code",
   "execution_count": 23,
   "id": "2a630c59",
   "metadata": {},
   "outputs": [],
   "source": [
    "y = [1100, 800, 750, 850, 1300, 1000, 1000, 1300, 800]"
   ]
  },
  {
   "cell_type": "code",
   "execution_count": 24,
   "id": "d5ccbc77",
   "metadata": {},
   "outputs": [],
   "source": [
    "w = (XTX_inv @ X.T) @ y"
   ]
  },
  {
   "cell_type": "code",
   "execution_count": 25,
   "id": "79a402a3",
   "metadata": {},
   "outputs": [
    {
     "data": {
      "text/plain": [
       "array([  4.59494481, -63.56432501])"
      ]
     },
     "execution_count": 25,
     "metadata": {},
     "output_type": "execute_result"
    }
   ],
   "source": [
    "w"
   ]
  },
  {
   "cell_type": "markdown",
   "id": "3526b65f",
   "metadata": {},
   "source": [
    " we just implemented normal equation\n",
    "        \n",
    " w = (X<sup>T</sup> X)<sup>-1</sup> X<sup>T</sup>y"
   ]
  },
  {
   "cell_type": "code",
   "execution_count": null,
   "id": "e5a2eef6",
   "metadata": {},
   "outputs": [],
   "source": []
  }
 ],
 "metadata": {
  "kernelspec": {
   "display_name": "Python 3",
   "language": "python",
   "name": "python3"
  },
  "language_info": {
   "codemirror_mode": {
    "name": "ipython",
    "version": 3
   },
   "file_extension": ".py",
   "mimetype": "text/x-python",
   "name": "python",
   "nbconvert_exporter": "python",
   "pygments_lexer": "ipython3",
   "version": "3.8.8"
  },
  "vscode": {
   "interpreter": {
    "hash": "f9f85f796d01129d0dd105a088854619f454435301f6ffec2fea96ecbd9be4ac"
   }
  }
 },
 "nbformat": 4,
 "nbformat_minor": 5
}
